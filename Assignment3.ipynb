{
 "cells": [
  {
   "cell_type": "markdown",
   "id": "golden-wonder",
   "metadata": {},
   "source": [
    "# Que1)"
   ]
  },
  {
   "cell_type": "code",
   "execution_count": 3,
   "id": "configured-registrar",
   "metadata": {},
   "outputs": [
    {
     "name": "stdout",
     "output_type": "stream",
     "text": [
      "Array before deletion : \n",
      "[10, 50, 30, 40, 20]\n",
      "Array after deletion : \n",
      "[10, 50, 40, 20]\n"
     ]
    }
   ],
   "source": [
    "arr = [10,50,30,40,20]\n",
    "key = 30\n",
    "\n",
    "print(\"Array before deletion : \")\n",
    "print (arr)\n",
    "\n",
    "#deleting key if found in the array\n",
    "#otherwise shows error not in list\n",
    "arr.remove(key)\n",
    "print(\"Array after deletion : \")\n",
    "print (arr)"
   ]
  },
  {
   "cell_type": "markdown",
   "id": "southwest-phone",
   "metadata": {},
   "source": [
    "#  Que2)"
   ]
  },
  {
   "cell_type": "markdown",
   "id": "skilled-paris",
   "metadata": {},
   "source": [
    "# Ans:-"
   ]
  },
  {
   "cell_type": "raw",
   "id": "logical-fossil",
   "metadata": {},
   "source": [
    "      In class-based object-orinted programming, a constructor(abbreviation : ctor) is a special type of subroutine called to create an object.\n",
    "      It prepare the new object for use,often accepting arguments that the constructor uses to set required member variable. "
   ]
  }
 ],
 "metadata": {
  "kernelspec": {
   "display_name": "Python 3",
   "language": "python",
   "name": "python3"
  },
  "language_info": {
   "codemirror_mode": {
    "name": "ipython",
    "version": 3
   },
   "file_extension": ".py",
   "mimetype": "text/x-python",
   "name": "python",
   "nbconvert_exporter": "python",
   "pygments_lexer": "ipython3",
   "version": "3.9.0"
  }
 },
 "nbformat": 4,
 "nbformat_minor": 5
}
